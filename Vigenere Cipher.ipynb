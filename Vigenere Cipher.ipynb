{
 "cells": [
  {
   "cell_type": "markdown",
   "metadata": {},
   "source": [
    "This is the solution to the HIRED puzzle posted on Linkedin.\n",
    "\n",
    "![Hired puzzle image](hired.png)\n",
    "\n",
    "The cipher text appears to be white space preserving making a dictionary or ngram attack possible feasible.\n",
    "The word 'HIRED' is prominately displayed below the ciphertext, we will assume this is the key. \n",
    "\n",
    "Assumptions:\n",
    "- Language is English US \n",
    "- The ciphertext is in ascii.\n",
    "- The cipher is an algorithm that uses a key,\n",
    "which eliminates substitution, Ceaser and rotN type ciphers.\n",
    "\n",
    "Honestly, the first attempt *added* the cipher character to the key charcter. The second attempt used an sub-sampled 5-gram data set of 1 million records, with the search based on word length which yeilded about 200 possibilities with no clear solution.\n",
    "\n",
    "Eventually the Vigenère cipher was found. This cipher *subtracts* the key to decode. The [Vigenère cipher](https://en.wikipedia.org/wiki/Vigen%C3%A8re_cipher) is a simple rotation cipher where the character shift is a function of the key value. The cipher algorithm is thus:\n",
    "\n",
    "> Message[j] = Cipher[j] - Key[j] (mod 26)\n",
    "\n",
    "The Vigenère cipher produced 'let the best companies apply to you' which is HIRED's tag line, a clear solution."
   ]
  },
  {
   "cell_type": "code",
   "execution_count": 60,
   "metadata": {
    "collapsed": true
   },
   "outputs": [],
   "source": [
    "cipher = \"Smk xkl jvww jwdtduqvw dwxcc wv gfy\"\n",
    "key = \"hired\""
   ]
  },
  {
   "cell_type": "code",
   "execution_count": 61,
   "metadata": {
    "collapsed": false
   },
   "outputs": [],
   "source": [
    "# ascii characters for int to ascii conversion\n",
    "a = \"abcdefghijklmnopqrstuvwxyz\""
   ]
  },
  {
   "cell_type": "markdown",
   "metadata": {},
   "source": [
    "We will need a counter to keep track of position within cipher and one to keep track of position within key since we want to ignore spaces when deciphering."
   ]
  },
  {
   "cell_type": "code",
   "execution_count": 62,
   "metadata": {
    "collapsed": false
   },
   "outputs": [],
   "source": [
    "answer = \"\"\n",
    "cipher = cipher.lower()\n",
    "l_alpha = len(a)\n",
    "l_key = len(key)\n",
    "l_cipher = len(cipher)\n",
    "i_key = 0\n",
    "for zed in xrange(0, l_cipher):\n",
    "    if cipher[zed] != ' ':\n",
    "        answer += (a[(a.index(cipher[zed]) - a.index(key[(i_key%l_key)])) % l_alpha])\n",
    "        i_key += 1\n",
    "    else:\n",
    "        answer += ' '\n"
   ]
  },
  {
   "cell_type": "code",
   "execution_count": 63,
   "metadata": {
    "collapsed": false
   },
   "outputs": [
    {
     "name": "stdout",
     "output_type": "stream",
     "text": [
      "let the best companies apply to you\n"
     ]
    }
   ],
   "source": [
    "print answer"
   ]
  }
 ],
 "metadata": {
  "kernelspec": {
   "display_name": "Python 2",
   "language": "python",
   "name": "python2"
  },
  "language_info": {
   "codemirror_mode": {
    "name": "ipython",
    "version": 2
   },
   "file_extension": ".py",
   "mimetype": "text/x-python",
   "name": "python",
   "nbconvert_exporter": "python",
   "pygments_lexer": "ipython2",
   "version": "2.7.11"
  }
 },
 "nbformat": 4,
 "nbformat_minor": 0
}
